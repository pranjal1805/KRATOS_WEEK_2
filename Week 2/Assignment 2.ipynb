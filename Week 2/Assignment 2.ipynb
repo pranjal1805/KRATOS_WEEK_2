{
 "cells": [
  {
   "cell_type": "code",
   "execution_count": null,
   "id": "848186d3",
   "metadata": {},
   "outputs": [],
   "source": [
    "import sys\n",
    "import cv2 as cv\n",
    "import numpy as np\n",
    "def main(argv):\n",
    "    \n",
    "    default_file = 'smarties.png'\n",
    "    filename = argv[0] if len(argv) > 0 else default_file\n",
    "    # Loads an image\n",
    "    src = cv.imread(cv.samples.findFile('smarties.png'), cv.IMREAD_COLOR)\n",
    "    # Check if image is loaded fine\n",
    "    if src is None:\n",
    "        print ('Error opening image!')\n",
    "        print ('Usage: hough_circle.py [image_name -- default ' + default_file + '] \\n')\n",
    "        return -1\n",
    "    \n",
    "    \n",
    "    gray = cv.cvtColor(src, cv.COLOR_BGR2GRAY)\n",
    "    \n",
    "    \n",
    "    gray = cv.medianBlur(gray, 5)\n",
    "    \n",
    "    \n",
    "    rows = gray.shape[0]\n",
    "    circles = cv.HoughCircles(gray, cv.HOUGH_GRADIENT, 1, rows / 8,\n",
    "                               param1=100, param2=30,\n",
    "                               minRadius=1, maxRadius=30)\n",
    "    \n",
    "    \n",
    "    if circles is not None:\n",
    "        circles = np.uint16(np.around(circles))\n",
    "        for i in circles[0, :]:\n",
    "            center = (i[0], i[1])\n",
    "            # circle center\n",
    "            cv.circle(src, center, 1, (0, 100, 100), 3)\n",
    "            # circle outline\n",
    "            radius = i[2]\n",
    "            cv.circle(src, center, radius, (255, 0, 255), 3)\n",
    "    \n",
    "    cv.imwrite('b.png', src)\n",
    "    cv.imshow(\"detected circles\", src)\n",
    "    cv.waitKey(0)\n",
    "        \n",
    "    \n",
    "    \n",
    "    return 0\n",
    "if __name__ == \"__main__\":\n",
    "    main(sys.argv[1:])"
   ]
  },
  {
   "cell_type": "code",
   "execution_count": null,
   "id": "265b768b",
   "metadata": {},
   "outputs": [],
   "source": []
  }
 ],
 "metadata": {
  "kernelspec": {
   "display_name": "Python 3",
   "language": "python",
   "name": "python3"
  },
  "language_info": {
   "codemirror_mode": {
    "name": "ipython",
    "version": 3
   },
   "file_extension": ".py",
   "mimetype": "text/x-python",
   "name": "python",
   "nbconvert_exporter": "python",
   "pygments_lexer": "ipython3",
   "version": "3.8.8"
  }
 },
 "nbformat": 4,
 "nbformat_minor": 5
}
